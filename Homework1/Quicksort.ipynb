{
 "cells": [
  {
   "cell_type": "markdown",
   "metadata": {},
   "source": [
    "# Homework 1-QuickSort:\n",
    "## 解題觀念：\n",
    "在一串數列中先拿隨便一個數作為基準值(pivot)，比基準值小的一邊，大的丟另一邊，再對左右數列重複此步驟，直到左右兩邊只剩一個數為止。"
   ]
  },
  {
   "cell_type": "markdown",
   "metadata": {},
   "source": [
    "## 解題過程："
   ]
  },
  {
   "cell_type": "code",
   "execution_count": 1,
   "metadata": {},
   "outputs": [],
   "source": [
    "def quicksort(x):\n",
    "    if len(x) < 2: #quicksort的數列長度若小於2則直接return輸入的值\n",
    "        return x\n",
    "    else:\n",
    "        pivot=x[0] #統一設數列的第一個數為基準值\n",
    "        less=[i for i in x[1:] if i < pivot] #比基準值小的丟less[]\n",
    "        equal=[i for i in x[1:] if i == pivot] #跟基準值一樣的丟equal[]\n",
    "        more=[i for i in x[1:] if i > pivot] #比基準值大的丟more[]\n",
    "        return quicksort(less)+quicksort(equal)+[pivot]+quicksort(more)"
   ]
  },
  {
   "cell_type": "markdown",
   "metadata": {},
   "source": [
    "### 如果數列中的數字不到兩個就不用跑else\n",
    "### 統一用數列的第一個數作為pivot，比pivot小的放less[]裡，等於的放equal[]裡，大的放more[]裡\n",
    "### 將新的數列重整，若less[]、equal[]、more[]中還有兩個或以上的數字，則重複分類一次，直到所有list中都只剩下一個數，就會停止分類"
   ]
  },
  {
   "cell_type": "code",
   "execution_count": 5,
   "metadata": {},
   "outputs": [],
   "source": [
    "Alist=[4,7,3,0,9,4,8,5,1,6,2]"
   ]
  },
  {
   "cell_type": "code",
   "execution_count": 6,
   "metadata": {},
   "outputs": [
    {
     "data": {
      "text/plain": [
       "[0, 1, 2, 3, 4, 4, 5, 6, 7, 8, 9]"
      ]
     },
     "execution_count": 6,
     "metadata": {},
     "output_type": "execute_result"
    }
   ],
   "source": [
    "quicksort(Alist)"
   ]
  },
  {
   "cell_type": "code",
   "execution_count": null,
   "metadata": {},
   "outputs": [],
   "source": []
  }
 ],
 "metadata": {
  "kernelspec": {
   "display_name": "Python 3",
   "language": "python",
   "name": "python3"
  },
  "language_info": {
   "codemirror_mode": {
    "name": "ipython",
    "version": 3
   },
   "file_extension": ".py",
   "mimetype": "text/x-python",
   "name": "python",
   "nbconvert_exporter": "python",
   "pygments_lexer": "ipython3",
   "version": "3.7.3"
  }
 },
 "nbformat": 4,
 "nbformat_minor": 2
}
